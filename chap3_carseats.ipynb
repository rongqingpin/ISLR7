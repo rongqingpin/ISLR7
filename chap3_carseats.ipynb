{
 "cells": [
  {
   "cell_type": "code",
   "execution_count": 1,
   "metadata": {},
   "outputs": [],
   "source": [
    "import pandas as pd\n",
    "import numpy as np\n",
    "import math\n",
    "\n",
    "import statsmodels.api as sm\n",
    "\n",
    "import seaborn as sns\n",
    "import matplotlib.pyplot as plt"
   ]
  },
  {
   "cell_type": "code",
   "execution_count": 2,
   "metadata": {},
   "outputs": [],
   "source": [
    "flc = '/Users/pinqingkan/Desktop/Codes/Course_ISLR/data/'\n",
    "fname = flc + 'Carseats.csv'\n",
    "X = pd.read_csv(fname)\n",
    "Nrow, Ncol = X.shape"
   ]
  },
  {
   "cell_type": "code",
   "execution_count": 3,
   "metadata": {},
   "outputs": [],
   "source": [
    "# encode qualitative variables\n",
    "US2 = pd.get_dummies(X.US)\n",
    "fcols2 = []\n",
    "for i in US2.columns:\n",
    "    fcols2.append('US_' + i)\n",
    "US2.columns = fcols2\n",
    "Urban2 = pd.get_dummies(X.Urban)\n",
    "fcols2 = []\n",
    "for i in Urban2.columns:\n",
    "    fcols2.append('Urban_' + i)\n",
    "Urban2.columns = fcols2"
   ]
  },
  {
   "cell_type": "markdown",
   "metadata": {},
   "source": [
    "10 - (a) Fit a multiple regression model to predict Sales using Price, Urban, and US."
   ]
  },
  {
   "cell_type": "code",
   "execution_count": 4,
   "metadata": {},
   "outputs": [],
   "source": [
    "xx = pd.concat([X.Price, Urban2.iloc[:, :-1], US2.iloc[:, :-1]], axis = 1)\n",
    "xx = sm.add_constant(xx) # OLS does not include intercept by default\n",
    "yy = X.Sales.copy()\n",
    "results = sm.OLS(yy, xx).fit()"
   ]
  },
  {
   "cell_type": "code",
   "execution_count": 5,
   "metadata": {},
   "outputs": [
    {
     "name": "stdout",
     "output_type": "stream",
     "text": [
      "                            OLS Regression Results                            \n",
      "==============================================================================\n",
      "Dep. Variable:                  Sales   R-squared:                       0.239\n",
      "Model:                            OLS   Adj. R-squared:                  0.234\n",
      "Method:                 Least Squares   F-statistic:                     41.52\n",
      "Date:                Sun, 12 Aug 2018   Prob (F-statistic):           2.39e-23\n",
      "Time:                        17:50:21   Log-Likelihood:                -927.66\n",
      "No. Observations:                 400   AIC:                             1863.\n",
      "Df Residuals:                     396   BIC:                             1879.\n",
      "Df Model:                           3                                         \n",
      "Covariance Type:            nonrobust                                         \n",
      "==============================================================================\n",
      "                 coef    std err          t      P>|t|      [0.025      0.975]\n",
      "------------------------------------------------------------------------------\n",
      "const         14.2221      0.639     22.253      0.000      12.966      15.479\n",
      "Price         -0.0545      0.005    -10.389      0.000      -0.065      -0.044\n",
      "Urban_No       0.0219      0.272      0.081      0.936      -0.512       0.556\n",
      "US_No         -1.2006      0.259     -4.635      0.000      -1.710      -0.691\n",
      "==============================================================================\n",
      "Omnibus:                        0.676   Durbin-Watson:                   1.912\n",
      "Prob(Omnibus):                  0.713   Jarque-Bera (JB):                0.758\n",
      "Skew:                           0.093   Prob(JB):                        0.684\n",
      "Kurtosis:                       2.897   Cond. No.                         615.\n",
      "==============================================================================\n",
      "\n",
      "Warnings:\n",
      "[1] Standard Errors assume that the covariance matrix of the errors is correctly specified.\n"
     ]
    }
   ],
   "source": [
    "print(results.summary())"
   ]
  },
  {
   "cell_type": "markdown",
   "metadata": {},
   "source": [
    "10 - (c) Write out the model in equation form.  \n",
    "Since the p value of urban_No is very large, indicating whether Urban = Yes / No doesn't have a relationship with Sales, the model is rerun with the other 2 parameters:  \n",
    "`Sales = 14.2304 - 0.0545 * Price - 1.1996 * US_No`  \n",
    "If US = No other than Yes, the Sales decrease with a ratio of 1.1996  \n",
    "10 - (e) On the basis of your response to the previous question, fit a smaller model that only uses the predictors for which there is evidence of association with the outcome."
   ]
  },
  {
   "cell_type": "code",
   "execution_count": 6,
   "metadata": {},
   "outputs": [],
   "source": [
    "xx = pd.concat([X.Price, US2.iloc[:, :-1]], axis = 1)\n",
    "xx = sm.add_constant(xx) # OLS does not include intercept by default\n",
    "yy = X.Sales.copy()\n",
    "results = sm.OLS(yy, xx).fit()"
   ]
  },
  {
   "cell_type": "code",
   "execution_count": 7,
   "metadata": {},
   "outputs": [
    {
     "name": "stdout",
     "output_type": "stream",
     "text": [
      "                            OLS Regression Results                            \n",
      "==============================================================================\n",
      "Dep. Variable:                  Sales   R-squared:                       0.239\n",
      "Model:                            OLS   Adj. R-squared:                  0.235\n",
      "Method:                 Least Squares   F-statistic:                     62.43\n",
      "Date:                Sun, 12 Aug 2018   Prob (F-statistic):           2.66e-24\n",
      "Time:                        17:50:21   Log-Likelihood:                -927.66\n",
      "No. Observations:                 400   AIC:                             1861.\n",
      "Df Residuals:                     397   BIC:                             1873.\n",
      "Df Model:                           2                                         \n",
      "Covariance Type:            nonrobust                                         \n",
      "==============================================================================\n",
      "                 coef    std err          t      P>|t|      [0.025      0.975]\n",
      "------------------------------------------------------------------------------\n",
      "const         14.2304      0.630     22.589      0.000      12.992      15.469\n",
      "Price         -0.0545      0.005    -10.416      0.000      -0.065      -0.044\n",
      "US_No         -1.1996      0.258     -4.641      0.000      -1.708      -0.692\n",
      "==============================================================================\n",
      "Omnibus:                        0.666   Durbin-Watson:                   1.912\n",
      "Prob(Omnibus):                  0.717   Jarque-Bera (JB):                0.749\n",
      "Skew:                           0.092   Prob(JB):                        0.688\n",
      "Kurtosis:                       2.895   Cond. No.                         605.\n",
      "==============================================================================\n",
      "\n",
      "Warnings:\n",
      "[1] Standard Errors assume that the covariance matrix of the errors is correctly specified.\n"
     ]
    }
   ],
   "source": [
    "print(results.summary())"
   ]
  },
  {
   "cell_type": "markdown",
   "metadata": {},
   "source": [
    "10 - (g) Using the model from (e), obtain 95% confidence intervals for the coefficient(s)."
   ]
  },
  {
   "cell_type": "code",
   "execution_count": 8,
   "metadata": {},
   "outputs": [
    {
     "data": {
      "text/html": [
       "<div>\n",
       "<style scoped>\n",
       "    .dataframe tbody tr th:only-of-type {\n",
       "        vertical-align: middle;\n",
       "    }\n",
       "\n",
       "    .dataframe tbody tr th {\n",
       "        vertical-align: top;\n",
       "    }\n",
       "\n",
       "    .dataframe thead th {\n",
       "        text-align: right;\n",
       "    }\n",
       "</style>\n",
       "<table border=\"1\" class=\"dataframe\">\n",
       "  <thead>\n",
       "    <tr style=\"text-align: right;\">\n",
       "      <th></th>\n",
       "      <th>0</th>\n",
       "      <th>1</th>\n",
       "    </tr>\n",
       "  </thead>\n",
       "  <tbody>\n",
       "    <tr>\n",
       "      <th>const</th>\n",
       "      <td>12.991925</td>\n",
       "      <td>15.468946</td>\n",
       "    </tr>\n",
       "    <tr>\n",
       "      <th>Price</th>\n",
       "      <td>-0.064760</td>\n",
       "      <td>-0.044195</td>\n",
       "    </tr>\n",
       "    <tr>\n",
       "      <th>US_No</th>\n",
       "      <td>-1.707766</td>\n",
       "      <td>-0.691520</td>\n",
       "    </tr>\n",
       "  </tbody>\n",
       "</table>\n",
       "</div>"
      ],
      "text/plain": [
       "               0          1\n",
       "const  12.991925  15.468946\n",
       "Price  -0.064760  -0.044195\n",
       "US_No  -1.707766  -0.691520"
      ]
     },
     "execution_count": 8,
     "metadata": {},
     "output_type": "execute_result"
    }
   ],
   "source": [
    "results.conf_int(alpha = 0.05, cols = None)"
   ]
  },
  {
   "cell_type": "markdown",
   "metadata": {},
   "source": [
    "10 - (h) Is there evidence of outliers or high leverage observations in the model from (e)?"
   ]
  },
  {
   "cell_type": "code",
   "execution_count": 9,
   "metadata": {},
   "outputs": [
    {
     "data": {
      "image/png": "[encoded data removed]",
      "text/plain": [
       "<Figure size 720x288 with 1 Axes>"
      ]
     },
     "metadata": {},
     "output_type": "display_data"
    }
   ],
   "source": [
    "infl = results.get_influence()\n",
    "resd_std = infl.resid_studentized_internal\n",
    "hatDiag  = infl.hat_diag_factor\n",
    "hi0 = (2 + 1) / Nrow # p = 2, n = Nrow\n",
    "plt.figure(figsize = (10, 4))\n",
    "plt.scatter(hatDiag, resd_std)\n",
    "plt.plot([1/Nrow, max(hatDiag)], [-3, -3], '--k')\n",
    "plt.plot([1/Nrow, max(hatDiag)], [3, 3], '--k')\n",
    "plt.plot([hi0, hi0], [min(resd_std), max(resd_std)], '-.k')\n",
    "ax = plt.axis([1/Nrow, max(hatDiag), min(resd_std), max(resd_std)])"
   ]
  },
  {
   "cell_type": "code",
   "execution_count": null,
   "metadata": {},
   "outputs": [],
   "source": []
  }
 ],
 "metadata": {
  "kernelspec": {
   "display_name": "Python 3",
   "language": "python",
   "name": "python3"
  },
  "language_info": {
   "codemirror_mode": {
    "name": "ipython",
    "version": 3
   },
   "file_extension": ".py",
   "mimetype": "text/x-python",
   "name": "python",
   "nbconvert_exporter": "python",
   "pygments_lexer": "ipython3",
   "version": "3.6.5"
  }
 },
 "nbformat": 4,
 "nbformat_minor": 2
}
