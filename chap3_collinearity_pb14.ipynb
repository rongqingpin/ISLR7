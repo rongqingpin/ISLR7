{
 "cells": [
  {
   "cell_type": "markdown",
   "metadata": {},
   "source": [
    "Lessons learned: before drawing any conclusions from analysis, should review the assumptions of the model and see if the violation of any will cause change in result. Esp for this problem: \n",
    "1. should check for collinearity before rejecting variables based on p-value\n",
    "2. should dis-include outliers and high leverage points before determining the model coefficients"
   ]
  },
  {
   "cell_type": "code",
   "execution_count": 1,
   "metadata": {},
   "outputs": [],
   "source": [
    "import pandas as pd\n",
    "import numpy as np\n",
    "import math\n",
    "\n",
    "import statsmodels.api as sm\n",
    "\n",
    "import seaborn as sns\n",
    "import matplotlib.pyplot as plt"
   ]
  },
  {
   "cell_type": "code",
   "execution_count": 2,
   "metadata": {},
   "outputs": [],
   "source": [
    "np.random.seed(0)\n",
    "\n",
    "n = 100 \n",
    "x1 = np.random.uniform(size = n)\n",
    "x2 = 0.5 * x1 + np.random.normal(size = n) / 10.0\n",
    "\n",
    "y = 2 + 2.0 * x1 + 0.3 * x2 + np.random.normal(size = n)"
   ]
  },
  {
   "cell_type": "markdown",
   "metadata": {},
   "source": [
    "14 - (b) What is the correlation between x1 and x2? Create a scatterplot displaying the relationship between the variables."
   ]
  },
  {
   "cell_type": "code",
   "execution_count": 3,
   "metadata": {},
   "outputs": [
    {
     "name": "stdout",
     "output_type": "stream",
     "text": [
      "correlation between x1 & x2:  0.8192633558220391\n"
     ]
    },
    {
     "data": {
      "text/plain": [
       "<matplotlib.collections.PathCollection at 0x1c21eec080>"
      ]
     },
     "execution_count": 3,
     "metadata": {},
     "output_type": "execute_result"
    },
    {
     "data": {
      "image/png": "[encoded data removed]",
      "text/plain": [
       "<Figure size 432x288 with 1 Axes>"
      ]
     },
     "metadata": {},
     "output_type": "display_data"
    }
   ],
   "source": [
    "print('correlation between x1 & x2: ', np.corrcoef(x1, x2)[0][1])\n",
    "plt.scatter(x1, x2)"
   ]
  },
  {
   "cell_type": "markdown",
   "metadata": {},
   "source": [
    "14 - (c) Using this data, fit a least squares regression to predict y using x1 and x2"
   ]
  },
  {
   "cell_type": "code",
   "execution_count": 4,
   "metadata": {},
   "outputs": [],
   "source": [
    "X = pd.DataFrame(np.hstack( (x1.reshape(n, 1), x2.reshape(n, 1)) ), columns = ['x1', 'x2'])\n",
    "xx = sm.add_constant(X)\n",
    "results0 = sm.OLS(y, xx).fit()"
   ]
  },
  {
   "cell_type": "code",
   "execution_count": 5,
   "metadata": {},
   "outputs": [
    {
     "name": "stdout",
     "output_type": "stream",
     "text": [
      "                            OLS Regression Results                            \n",
      "==============================================================================\n",
      "Dep. Variable:                      y   R-squared:                       0.261\n",
      "Model:                            OLS   Adj. R-squared:                  0.246\n",
      "Method:                 Least Squares   F-statistic:                     17.16\n",
      "Date:                Mon, 20 Aug 2018   Prob (F-statistic):           4.16e-07\n",
      "Time:                        21:12:00   Log-Likelihood:                -139.04\n",
      "No. Observations:                 100   AIC:                             284.1\n",
      "Df Residuals:                      97   BIC:                             291.9\n",
      "Df Model:                           2                                         \n",
      "Covariance Type:            nonrobust                                         \n",
      "==============================================================================\n",
      "                 coef    std err          t      P>|t|      [0.025      0.975]\n",
      "------------------------------------------------------------------------------\n",
      "const          1.9217      0.191     10.071      0.000       1.543       2.300\n",
      "x1             1.2007      0.597      2.011      0.047       0.016       2.385\n",
      "x2             1.4931      0.991      1.507      0.135      -0.473       3.459\n",
      "==============================================================================\n",
      "Omnibus:                        0.196   Durbin-Watson:                   2.109\n",
      "Prob(Omnibus):                  0.907   Jarque-Bera (JB):                0.026\n",
      "Skew:                           0.032   Prob(JB):                        0.987\n",
      "Kurtosis:                       3.046   Cond. No.                         13.0\n",
      "==============================================================================\n",
      "\n",
      "Warnings:\n",
      "[1] Standard Errors assume that the covariance matrix of the errors is correctly specified.\n"
     ]
    }
   ],
   "source": [
    "print(results0.summary())"
   ]
  },
  {
   "cell_type": "markdown",
   "metadata": {},
   "source": [
    "14 - (d) Now fit a least squares regression to predict y using only x1."
   ]
  },
  {
   "cell_type": "code",
   "execution_count": 6,
   "metadata": {},
   "outputs": [],
   "source": [
    "results1 = sm.OLS(y, xx.drop(['x2'], axis = 1)).fit()"
   ]
  },
  {
   "cell_type": "code",
   "execution_count": 7,
   "metadata": {},
   "outputs": [
    {
     "name": "stdout",
     "output_type": "stream",
     "text": [
      "                            OLS Regression Results                            \n",
      "==============================================================================\n",
      "Dep. Variable:                      y   R-squared:                       0.244\n",
      "Model:                            OLS   Adj. R-squared:                  0.236\n",
      "Method:                 Least Squares   F-statistic:                     31.64\n",
      "Date:                Mon, 20 Aug 2018   Prob (F-statistic):           1.76e-07\n",
      "Time:                        21:12:00   Log-Likelihood:                -140.20\n",
      "No. Observations:                 100   AIC:                             284.4\n",
      "Df Residuals:                      98   BIC:                             289.6\n",
      "Df Model:                           1                                         \n",
      "Covariance Type:            nonrobust                                         \n",
      "==============================================================================\n",
      "                 coef    std err          t      P>|t|      [0.025      0.975]\n",
      "------------------------------------------------------------------------------\n",
      "const          1.9548      0.191     10.247      0.000       1.576       2.333\n",
      "x1             1.9378      0.344      5.625      0.000       1.254       2.621\n",
      "==============================================================================\n",
      "Omnibus:                        0.305   Durbin-Watson:                   2.127\n",
      "Prob(Omnibus):                  0.858   Jarque-Bera (JB):                0.050\n",
      "Skew:                          -0.005   Prob(JB):                        0.975\n",
      "Kurtosis:                       3.109   Cond. No.                         4.30\n",
      "==============================================================================\n",
      "\n",
      "Warnings:\n",
      "[1] Standard Errors assume that the covariance matrix of the errors is correctly specified.\n"
     ]
    }
   ],
   "source": [
    "print(results1.summary())"
   ]
  },
  {
   "cell_type": "markdown",
   "metadata": {},
   "source": [
    "14 - (e) Now fit a least squares regression to predict y using only x2."
   ]
  },
  {
   "cell_type": "code",
   "execution_count": 8,
   "metadata": {},
   "outputs": [],
   "source": [
    "results2 = sm.OLS(y, xx.drop(['x1'], axis = 1)).fit()"
   ]
  },
  {
   "cell_type": "code",
   "execution_count": 9,
   "metadata": {},
   "outputs": [
    {
     "name": "stdout",
     "output_type": "stream",
     "text": [
      "                            OLS Regression Results                            \n",
      "==============================================================================\n",
      "Dep. Variable:                      y   R-squared:                       0.231\n",
      "Model:                            OLS   Adj. R-squared:                  0.223\n",
      "Method:                 Least Squares   F-statistic:                     29.37\n",
      "Date:                Mon, 20 Aug 2018   Prob (F-statistic):           4.29e-07\n",
      "Time:                        21:12:00   Log-Likelihood:                -141.09\n",
      "No. Observations:                 100   AIC:                             286.2\n",
      "Df Residuals:                      98   BIC:                             291.4\n",
      "Df Model:                           1                                         \n",
      "Covariance Type:            nonrobust                                         \n",
      "==============================================================================\n",
      "                 coef    std err          t      P>|t|      [0.025      0.975]\n",
      "------------------------------------------------------------------------------\n",
      "const          2.0721      0.178     11.623      0.000       1.718       2.426\n",
      "x2             3.1255      0.577      5.419      0.000       1.981       4.270\n",
      "==============================================================================\n",
      "Omnibus:                        0.213   Durbin-Watson:                   2.005\n",
      "Prob(Omnibus):                  0.899   Jarque-Bera (JB):                0.187\n",
      "Skew:                           0.100   Prob(JB):                        0.911\n",
      "Kurtosis:                       2.929   Cond. No.                         6.14\n",
      "==============================================================================\n",
      "\n",
      "Warnings:\n",
      "[1] Standard Errors assume that the covariance matrix of the errors is correctly specified.\n"
     ]
    }
   ],
   "source": [
    "print(results2.summary())"
   ]
  },
  {
   "cell_type": "markdown",
   "metadata": {},
   "source": [
    "14 - (g) Now suppose we obtain one additional observation, which was unfortunately mismeasured: x1 = 0.1, x2 = 0.8, y = 6. Re-fit the linear models from (c) to (e) using this new data. What effect does this new observation have on the each of the models? In each model, is this observation an outlier? A high-leverage point? Both?"
   ]
  },
  {
   "cell_type": "code",
   "execution_count": 10,
   "metadata": {},
   "outputs": [],
   "source": [
    "x12 = np.hstack((x1, 0.1))\n",
    "x22 = np.hstack((x2, 0.8))\n",
    "y2  = np.hstack((y,  6))"
   ]
  },
  {
   "cell_type": "code",
   "execution_count": 11,
   "metadata": {},
   "outputs": [],
   "source": [
    "X2 = pd.DataFrame(np.hstack( (x12.reshape(n+1, 1), x22.reshape(n+1, 1)) ), columns = ['x1', 'x2'])\n",
    "xx = sm.add_constant(X2)\n",
    "results0 = sm.OLS(y2, xx).fit()"
   ]
  },
  {
   "cell_type": "markdown",
   "metadata": {},
   "source": [
    "the added point is an outlier to x1 and of high leverage to x2, thus lowering the P-value for x2 while significantly increasing it for x1"
   ]
  },
  {
   "cell_type": "code",
   "execution_count": 12,
   "metadata": {},
   "outputs": [
    {
     "name": "stdout",
     "output_type": "stream",
     "text": [
      "                            OLS Regression Results                            \n",
      "==============================================================================\n",
      "Dep. Variable:                      y   R-squared:                       0.278\n",
      "Model:                            OLS   Adj. R-squared:                  0.263\n",
      "Method:                 Least Squares   F-statistic:                     18.85\n",
      "Date:                Mon, 20 Aug 2018   Prob (F-statistic):           1.18e-07\n",
      "Time:                        21:12:00   Log-Likelihood:                -142.48\n",
      "No. Observations:                 101   AIC:                             291.0\n",
      "Df Residuals:                      98   BIC:                             298.8\n",
      "Df Model:                           2                                         \n",
      "Covariance Type:            nonrobust                                         \n",
      "==============================================================================\n",
      "                 coef    std err          t      P>|t|      [0.025      0.975]\n",
      "------------------------------------------------------------------------------\n",
      "const          1.9480      0.194     10.025      0.000       1.562       2.334\n",
      "x1             0.4799      0.513      0.935      0.352      -0.538       1.498\n",
      "x2             2.7923      0.820      3.407      0.001       1.166       4.419\n",
      "==============================================================================\n",
      "Omnibus:                        0.064   Durbin-Watson:                   2.010\n",
      "Prob(Omnibus):                  0.969   Jarque-Bera (JB):                0.096\n",
      "Skew:                           0.055   Prob(JB):                        0.953\n",
      "Kurtosis:                       2.897   Cond. No.                         10.5\n",
      "==============================================================================\n",
      "\n",
      "Warnings:\n",
      "[1] Standard Errors assume that the covariance matrix of the errors is correctly specified.\n"
     ]
    }
   ],
   "source": [
    "print(results0.summary())"
   ]
  },
  {
   "cell_type": "markdown",
   "metadata": {},
   "source": [
    "since the added point is an outlier, it lowers the performance of the model (lowered R-squared)"
   ]
  },
  {
   "cell_type": "code",
   "execution_count": 13,
   "metadata": {},
   "outputs": [],
   "source": [
    "results1 = sm.OLS(y2, xx.drop(['x2'], axis = 1)).fit()"
   ]
  },
  {
   "cell_type": "code",
   "execution_count": 14,
   "metadata": {},
   "outputs": [
    {
     "name": "stdout",
     "output_type": "stream",
     "text": [
      "                            OLS Regression Results                            \n",
      "==============================================================================\n",
      "Dep. Variable:                      y   R-squared:                       0.192\n",
      "Model:                            OLS   Adj. R-squared:                  0.184\n",
      "Method:                 Least Squares   F-statistic:                     23.57\n",
      "Date:                Mon, 20 Aug 2018   Prob (F-statistic):           4.50e-06\n",
      "Time:                        21:12:00   Log-Likelihood:                -148.13\n",
      "No. Observations:                 101   AIC:                             300.3\n",
      "Df Residuals:                      99   BIC:                             305.5\n",
      "Df Model:                           1                                         \n",
      "Covariance Type:            nonrobust                                         \n",
      "==============================================================================\n",
      "                 coef    std err          t      P>|t|      [0.025      0.975]\n",
      "------------------------------------------------------------------------------\n",
      "const          2.0719      0.201     10.315      0.000       1.673       2.470\n",
      "x1             1.7696      0.364      4.855      0.000       1.046       2.493\n",
      "==============================================================================\n",
      "Omnibus:                        6.291   Durbin-Watson:                   1.848\n",
      "Prob(Omnibus):                  0.043   Jarque-Bera (JB):                6.776\n",
      "Skew:                           0.373   Prob(JB):                       0.0338\n",
      "Kurtosis:                       4.027   Cond. No.                         4.27\n",
      "==============================================================================\n",
      "\n",
      "Warnings:\n",
      "[1] Standard Errors assume that the covariance matrix of the errors is correctly specified.\n"
     ]
    }
   ],
   "source": [
    "print(results1.summary())"
   ]
  },
  {
   "cell_type": "markdown",
   "metadata": {},
   "source": [
    "the 'false' increase of R-squared and decrease of P value is caused by the fact that the added point is of high leverage to x2-y"
   ]
  },
  {
   "cell_type": "code",
   "execution_count": 15,
   "metadata": {},
   "outputs": [],
   "source": [
    "results2 = sm.OLS(y2, xx.drop(['x1'], axis = 1)).fit()"
   ]
  },
  {
   "cell_type": "code",
   "execution_count": 16,
   "metadata": {},
   "outputs": [
    {
     "name": "stdout",
     "output_type": "stream",
     "text": [
      "                            OLS Regression Results                            \n",
      "==============================================================================\n",
      "Dep. Variable:                      y   R-squared:                       0.271\n",
      "Model:                            OLS   Adj. R-squared:                  0.264\n",
      "Method:                 Least Squares   F-statistic:                     36.88\n",
      "Date:                Mon, 20 Aug 2018   Prob (F-statistic):           2.33e-08\n",
      "Time:                        21:12:00   Log-Likelihood:                -142.93\n",
      "No. Observations:                 101   AIC:                             289.9\n",
      "Df Residuals:                      99   BIC:                             295.1\n",
      "Df Model:                           1                                         \n",
      "Covariance Type:            nonrobust                                         \n",
      "==============================================================================\n",
      "                 coef    std err          t      P>|t|      [0.025      0.975]\n",
      "------------------------------------------------------------------------------\n",
      "const          2.0255      0.176     11.531      0.000       1.677       2.374\n",
      "x2             3.3578      0.553      6.073      0.000       2.261       4.455\n",
      "==============================================================================\n",
      "Omnibus:                        0.071   Durbin-Watson:                   1.999\n",
      "Prob(Omnibus):                  0.965   Jarque-Bera (JB):                0.141\n",
      "Skew:                           0.061   Prob(JB):                        0.932\n",
      "Kurtosis:                       2.864   Cond. No.                         5.91\n",
      "==============================================================================\n",
      "\n",
      "Warnings:\n",
      "[1] Standard Errors assume that the covariance matrix of the errors is correctly specified.\n"
     ]
    }
   ],
   "source": [
    "print(results2.summary())"
   ]
  },
  {
   "cell_type": "code",
   "execution_count": 17,
   "metadata": {},
   "outputs": [
    {
     "data": {
      "image/png": "[encoded data removed]",
      "text/plain": [
       "<Figure size 720x288 with 1 Axes>"
      ]
     },
     "metadata": {},
     "output_type": "display_data"
    }
   ],
   "source": [
    "infl = results1.get_influence()\n",
    "resd_std = infl.resid_studentized_internal\n",
    "hatDiag  = infl.hat_diag_factor\n",
    "hi0 = (1 + 1 - 2) / (n+1)\n",
    "plt.figure(figsize = (10, 4))\n",
    "plt.scatter(hatDiag, resd_std)\n",
    "plt.plot([1/(n+1), max(hatDiag)], [-3, -3], '--k')\n",
    "plt.plot([1/(n+1), max(hatDiag)], [3, 3], '--k')\n",
    "plt.plot([hi0, hi0], [min(resd_std), max(resd_std)], '-.k')\n",
    "ax = plt.axis([1/(n+1), max(hatDiag), min(resd_std), max(resd_std)])"
   ]
  },
  {
   "cell_type": "code",
   "execution_count": 18,
   "metadata": {},
   "outputs": [
    {
     "data": {
      "text/plain": [
       "3.587715311842814"
      ]
     },
     "execution_count": 18,
     "metadata": {},
     "output_type": "execute_result"
    }
   ],
   "source": [
    "resd_std[-1]"
   ]
  },
  {
   "cell_type": "code",
   "execution_count": 19,
   "metadata": {},
   "outputs": [
    {
     "data": {
      "image/png": "[encoded data removed]",
      "text/plain": [
       "<Figure size 720x288 with 1 Axes>"
      ]
     },
     "metadata": {},
     "output_type": "display_data"
    }
   ],
   "source": [
    "infl = results2.get_influence()\n",
    "resd_std = infl.resid_studentized_internal\n",
    "hatDiag  = infl.hat_diag_factor\n",
    "hi0 = (1 + 1 - 2) / (n+1)\n",
    "plt.figure(figsize = (10, 4))\n",
    "plt.scatter(hatDiag, resd_std)\n",
    "plt.plot([1/(n+1), max(hatDiag)], [-3, -3], '--k')\n",
    "plt.plot([1/(n+1), max(hatDiag)], [3, 3], '--k')\n",
    "plt.plot([hi0, hi0], [min(resd_std), max(resd_std)], '-.k')\n",
    "ax = plt.axis([1/(n+1), max(hatDiag), min(resd_std), max(resd_std)])"
   ]
  },
  {
   "cell_type": "code",
   "execution_count": 20,
   "metadata": {},
   "outputs": [
    {
     "data": {
      "text/plain": [
       "0.1081806536511256"
      ]
     },
     "execution_count": 20,
     "metadata": {},
     "output_type": "execute_result"
    }
   ],
   "source": [
    "hatDiag[-1]"
   ]
  },
  {
   "cell_type": "code",
   "execution_count": null,
   "metadata": {},
   "outputs": [],
   "source": []
  }
 ],
 "metadata": {
  "kernelspec": {
   "display_name": "Python 3",
   "language": "python",
   "name": "python3"
  },
  "language_info": {
   "codemirror_mode": {
    "name": "ipython",
    "version": 3
   },
   "file_extension": ".py",
   "mimetype": "text/x-python",
   "name": "python",
   "nbconvert_exporter": "python",
   "pygments_lexer": "ipython3",
   "version": "3.6.5"
  }
 },
 "nbformat": 4,
 "nbformat_minor": 2
}
